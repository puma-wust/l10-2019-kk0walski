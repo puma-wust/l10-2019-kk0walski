{
 "cells": [
  {
   "cell_type": "markdown",
   "metadata": {},
   "source": [
    "### 2018/2019 - Task List 10\n",
    "\n",
    "1. Implement Naive Bayes classifier with pyro\n",
    "    - create apropriate parameters (mean and std for a and b, sigma - noise)\n",
    "    - provide optimization procedure\n",
    "    - check appropriateness of implemented method with selected dataset\n"
   ]
  },
  {
   "cell_type": "markdown",
   "metadata": {},
   "source": [
    "# Required imports"
   ]
  },
  {
   "cell_type": "code",
   "execution_count": 31,
   "metadata": {},
   "outputs": [],
   "source": [
    "%matplotlib inline\n",
    "import pyro\n",
    "import torch\n",
    "import numpy as np\n",
    "import matplotlib.pyplot as plt\n",
    "import pyro.optim as optim\n",
    "import pyro.distributions as dist\n",
    "from torch.distributions import constraints\n",
    "from tqdm import tqdm\n",
    "import seaborn as sns\n",
    "from matplotlib import animation, rc\n",
    "from IPython.display import HTML\n",
    "import torch.nn as nn\n",
    "from functools import partial\n",
    "import pandas as pd\n",
    "from pyro.contrib.autoguide import AutoDiagonalNormal\n",
    "from pyro.infer import EmpiricalMarginal, SVI, Trace_ELBO, TracePredictive"
   ]
  },
  {
   "cell_type": "code",
   "execution_count": 32,
   "metadata": {},
   "outputs": [],
   "source": [
    "pyro.set_rng_seed(1)\n",
    "pyro.enable_validation(True)"
   ]
  },
  {
   "cell_type": "markdown",
   "metadata": {},
   "source": [
    "## Solutions"
   ]
  },
  {
   "cell_type": "code",
   "execution_count": 70,
   "metadata": {},
   "outputs": [],
   "source": [
    "from numpy import pi\n",
    "import numpy as np\n",
    "\n",
    "class GaussianNaiveBayes(nn.Module):\n",
    "    \"\"\" Implementation of Naive Bayes as a layer for pytorch models\n",
    "    TODO\n",
    "    ----\n",
    "    - Make std devs fixable\n",
    "    - Look into better param initialization\n",
    "    \"\"\"\n",
    "    def __init__(self, features, classes):\n",
    "        super(self.__class__, self).__init__()\n",
    "\n",
    "        self.features = features\n",
    "        self.classes = classes\n",
    "        self.means = nn.Parameter(torch.zeros(classes, features))\n",
    "        self.variances = nn.Parameter(torch.ones(classes, features))\n",
    "        self.class_priors = nn.Parameter(torch.Tensor(self.classes))\n",
    "\n",
    "    def forward(self, x):\n",
    "        normal = Normal(self.means, torch.abs(self.variances))\n",
    "        x = x[:,np.newaxis,:]\n",
    "        reasult = torch.sum(normal.log_prob(x), dim=-1) + torch.log(self.class_priors)\n",
    "        return reasult"
   ]
  },
  {
   "cell_type": "code",
   "execution_count": 71,
   "metadata": {},
   "outputs": [],
   "source": [
    "from sklearn import datasets\n",
    "iris = datasets.load_iris()\n",
    "X = iris.data\n",
    "y = iris.target"
   ]
  },
  {
   "cell_type": "code",
   "execution_count": 72,
   "metadata": {},
   "outputs": [],
   "source": [
    "from sklearn.model_selection import train_test_split\n",
    "X_train, X_test, y_train, y_test = train_test_split(X, y, test_size=0.33, random_state=42)\n",
    "feature_train_v = torch.FloatTensor(X_train)\n",
    "labels_train_v = torch.FloatTensor(y_train)\n",
    "feature_test_v = torch.FloatTensor(X_test)\n",
    "labels_test_v = torch.FloatTensor(y_test)"
   ]
  },
  {
   "cell_type": "code",
   "execution_count": 73,
   "metadata": {},
   "outputs": [],
   "source": [
    "def separateByClass(features, classes):\n",
    "    separated = {}\n",
    "    for i in range(len(classes)):\n",
    "        vector = features[i]\n",
    "        if (classes[i] not in separated):\n",
    "            separated[classes[i]] = []\n",
    "        separated[classes[i]].append(vector)\n",
    "    return separated\n",
    "    \n",
    "def summarize(dataset):\n",
    "    summaries = [(np.mean(attribute), np.std(attribute)) for attribute in zip(*dataset)]\n",
    "    return summaries\n",
    "    \n",
    "def summarizeByClass(features, classes):\n",
    "    separated = separateByClass(features, classes)\n",
    "    summaries = {}\n",
    "    for classValue, instances in separated.items():\n",
    "            summaries[classValue] = summarize(instances)\n",
    "    means = [i for i in range(len(summaries))]\n",
    "    variances = [i for i in range(len(summaries))]\n",
    "    for classValue, summary in summaries.items():\n",
    "        means[int(classValue)] = [i[0] for i in summary]\n",
    "        variances[int(classValue)] = [i[1] for i in summary]\n",
    "    return torch.Tensor(means), torch.Tensor(variances)\n",
    "                         \n",
    "means_prior, variances_prior = summarizeByClass(feature_train_v.tolist(),labels_train_v.tolist())"
   ]
  },
  {
   "cell_type": "code",
   "execution_count": 74,
   "metadata": {},
   "outputs": [],
   "source": [
    "import pyro\n",
    "from pyro.distributions import Cauchy, Categorical, Normal, Beta\n",
    "from pyro.infer import SVI, Trace_ELBO\n",
    "from pyro.optim import Adam\n",
    "from tqdm import tqdm\n",
    "softmax = nn.Softmax(dim=-1)\n",
    "my_class_priors = torch.Tensor(np.histogram(labels_train_v, bins=[i for i in range(4)])[0]/len(labels_train_v))"
   ]
  },
  {
   "cell_type": "code",
   "execution_count": 75,
   "metadata": {},
   "outputs": [],
   "source": [
    "bayes_model = GaussianNaiveBayes(4, 3)\n",
    "bayes_model.class_priors.data = my_class_priors"
   ]
  },
  {
   "cell_type": "code",
   "execution_count": 76,
   "metadata": {},
   "outputs": [],
   "source": [
    "def model(x_data, y_data):\n",
    "    # weight and bias priors\n",
    "    mean_prior = Normal(loc=means_prior,\n",
    "                        scale=torch.rand_like(bayes_model.variances)).independent(2)\n",
    "    var_prior = Normal(loc=variances_prior,\n",
    "                        scale=torch.rand_like(bayes_model.variances)).independent(2)\n",
    "    mean_prior_param = pyro.param('means', mean_prior)\n",
    "    var_prior_param = pyro.param('variances', var_prior)\n",
    "    priors = {'means': mean_prior, 'variances': var_prior}\n",
    "    # lift module parameters to random variables sampled from the priors\n",
    "    lifted_module = pyro.random_module(\"module\", bayes_model, priors)\n",
    "    # sample a nn (which also samples w and b)\n",
    "    lifted_bayes_model = lifted_module()\n",
    "    with pyro.plate(\"map\", len(x_data)):\n",
    "        # run the nn forward on data\n",
    "        prediction_mean = lifted_bayes_model(x_data)\n",
    "        # condition on the observed data\n",
    "        reasult = torch.Tensor(np.nan_to_num(prediction_mean.tolist()))\n",
    "        hat = softmax(reasult)\n",
    "        obs = pyro.sample(\"obs\", Categorical(logits=hat), obs=y_data)\n",
    "        return hat"
   ]
  },
  {
   "cell_type": "code",
   "execution_count": 77,
   "metadata": {},
   "outputs": [],
   "source": [
    "def train():\n",
    "    pyro.clear_param_store()\n",
    "    num_iterations=1000\n",
    "    guide = AutoDiagonalNormal(model)\n",
    "    optim = pyro.optim.Adam({\"lr\": 0.01})\n",
    "    svi = pyro.infer.SVI(model, guide, optim, loss=pyro.infer.Trace_ELBO(), num_samples=50)\n",
    "    t=tqdm(range(num_iterations))\n",
    "    for j in t:\n",
    "        loss = svi.step(feature_train_v,  labels_train_v)\n",
    "        t.set_postfix(loss=loss)\n",
    "    return (model, svi)"
   ]
  },
  {
   "cell_type": "code",
   "execution_count": 78,
   "metadata": {},
   "outputs": [
    {
     "name": "stderr",
     "output_type": "stream",
     "text": [
      "100%|██████████| 1000/1000 [00:12<00:00, 82.71it/s, loss=1.29e+3]\n"
     ]
    }
   ],
   "source": [
    "probabilistic_model, svi = train()"
   ]
  },
  {
   "cell_type": "code",
   "execution_count": 79,
   "metadata": {},
   "outputs": [
    {
     "name": "stdout",
     "output_type": "stream",
     "text": [
      "means tensor([[4.3272, 3.3625, 1.4255, 0.2827],\n",
      "        [5.0047, 1.9730, 4.2374, 1.1629],\n",
      "        [6.5433, 3.0159, 4.9713, 2.4353]], requires_grad=True)\n",
      "variances tensor([[ 0.2396,  0.2447, -0.1156,  0.7045],\n",
      "        [ 0.5362,  0.0322,  0.8408,  0.3849],\n",
      "        [-0.7867,  0.1793, -1.2401, -0.8232]], requires_grad=True)\n",
      "module$$$class_priors Parameter containing:\n",
      "tensor([0.3100, 0.3500, 0.3400], requires_grad=True)\n",
      "auto_loc tensor([ 0.6376,  0.7649,  0.4634,  0.1306,  1.4083,  1.2063,  1.6176,  0.2543,\n",
      "         0.4486,  1.2348,  0.5063,  1.0146, -0.0328,  0.5289, -0.0823, -0.0541,\n",
      "         0.1948, -0.0372,  0.2309,  0.1609,  0.1781,  0.5696,  0.7213,  0.2398],\n",
      "       requires_grad=True)\n",
      "auto_scale tensor([1.1510, 0.9945, 0.7017, 0.4931, 0.8009, 0.6670, 1.0012, 0.9410, 1.0255,\n",
      "        0.7380, 1.1937, 0.7069, 0.7760, 0.3986, 0.4843, 0.3656, 0.5554, 0.6244,\n",
      "        0.3828, 0.5583, 0.7502, 0.1903, 0.3885, 0.7559],\n",
      "       grad_fn=<AddBackward0>)\n"
     ]
    }
   ],
   "source": [
    "for name, value in pyro.get_param_store().items():\n",
    "    print(name, pyro.param(name))"
   ]
  },
  {
   "cell_type": "code",
   "execution_count": 80,
   "metadata": {},
   "outputs": [],
   "source": [
    "def get_marginal(traces, sites):\n",
    "    empirical_marginal=EmpiricalMarginal(traces, sites)\n",
    "    return empirical_marginal._get_samples_and_weights()[0].detach().cpu().numpy()\n",
    "\n",
    "def summary(traces, sites):\n",
    "    marginal = get_marginal(traces, sites)\n",
    "    site_stats = {}\n",
    "    for i in range(marginal.shape[1]):\n",
    "        site_name = sites[i]\n",
    "        site_marginal=marginal[:, i]\n",
    "        marginal_site = pd.DataFrame(site_marginal).transpose()\n",
    "        describe = partial(pd.Series.describe, percentiles=[.05, 0.25, 0.5, 0.75, 0.95])\n",
    "        site_stats[site_name] = marginal_site.apply(describe, axis=1) \\\n",
    "            [[\"mean\", \"std\", \"5%\", \"25%\", \"50%\", \"75%\", \"95%\"]]\n",
    "    return site_stats\n",
    "\n",
    "def wrapped_model(x_data, y_data):\n",
    "    model_result=probabilistic_model(x_data, y_data)\n",
    "    pyro.sample(\"prediction\", pyro.distributions.Categorical(model_result))\n",
    "\n",
    "posterior = svi.run(torch.FloatTensor(iris.data), torch.FloatTensor(iris.target))"
   ]
  },
  {
   "cell_type": "code",
   "execution_count": 81,
   "metadata": {},
   "outputs": [],
   "source": [
    "trace_pred = TracePredictive(wrapped_model,\n",
    "                             posterior,\n",
    "                             num_samples=50)\n",
    "post_pred = trace_pred.run(torch.FloatTensor(iris.data), None)\n",
    "post_summary = summary(post_pred, sites= ['prediction', 'obs'])\n",
    "mu = post_summary[\"prediction\"]\n",
    "y = post_summary[\"obs\"]\n",
    "predictions1 = pd.DataFrame({\n",
    "    \"x\": torch.FloatTensor(iris.data),\n",
    "    \"mu_mean\": mu[\"mean\"],\n",
    "    \"mu_perc_5\": mu[\"5%\"],\n",
    "    \"mu_perc_95\": mu[\"95%\"],\n",
    "    \"y_mean\": y[\"mean\"],\n",
    "    \"y_perc_5\": y[\"5%\"],\n",
    "    \"y_perc_95\": y[\"95%\"],\n",
    "    \"true_y\": torch.FloatTensor(iris.target),\n",
    "})"
   ]
  },
  {
   "cell_type": "code",
   "execution_count": 82,
   "metadata": {},
   "outputs": [
    {
     "data": {
      "image/png": "[encoded data removed]",
      "text/plain": [
       "<Figure size 864x432 with 1 Axes>"
      ]
     },
     "metadata": {
      "needs_background": "light"
     },
     "output_type": "display_data"
    }
   ],
   "source": [
    "fig, ax = plt.subplots(nrows=1, ncols=1, figsize=(12, 6))\n",
    "x_values=iris.data[:,0]\n",
    "y_data = iris.target\n",
    "plt.plot(x_values, y_data, \"bo\")\n",
    "plt.plot(x_values, predictions1['mu_mean'], 'r');\n",
    "plt.fill_between(x_values,\n",
    "                   predictions1[\"mu_perc_5\"],\n",
    "                   predictions1[\"mu_perc_95\"],\n",
    "                   color='r',\n",
    "                   alpha=0.5);"
   ]
  },
  {
   "cell_type": "code",
   "execution_count": 83,
   "metadata": {},
   "outputs": [],
   "source": [
    "variances = pyro.param('variances')\n",
    "means = pyro.param('means')"
   ]
  },
  {
   "cell_type": "code",
   "execution_count": 84,
   "metadata": {},
   "outputs": [],
   "source": [
    "net = GaussianNaiveBayes(4, 3)\n",
    "net.class_priors.data = my_class_priors\n",
    "net.means = nn.Parameter(means)\n",
    "net.variances = nn.Parameter(variances)"
   ]
  },
  {
   "cell_type": "code",
   "execution_count": 85,
   "metadata": {},
   "outputs": [
    {
     "name": "stdout",
     "output_type": "stream",
     "text": [
      "tensor([[-39.1369, -39.0156, -39.0446],\n",
      "        [-29.8019, -29.6806, -29.7096],\n",
      "        [-64.3219, -64.2006, -64.2296],\n",
      "        [-38.3019, -38.1806, -38.2096],\n",
      "        [-44.3869, -44.2656, -44.2946],\n",
      "        [-26.4119, -26.2906, -26.3196],\n",
      "        [-32.0569, -31.9356, -31.9646],\n",
      "        [-49.1069, -48.9856, -49.0146],\n",
      "        [-37.7369, -37.6156, -37.6446],\n",
      "        [-33.6369, -33.5156, -33.5446],\n",
      "        [-46.0969, -45.9756, -46.0046],\n",
      "        [-21.8519, -21.7306, -21.7596],\n",
      "        [-26.9619, -26.8406, -26.8696],\n",
      "        [-22.7869, -22.6656, -22.6946],\n",
      "        [-26.2419, -26.1206, -26.1496],\n",
      "        [-42.4619, -42.3406, -42.3696],\n",
      "        [-49.7119, -49.5906, -49.6196],\n",
      "        [-31.8619, -31.7406, -31.7696],\n",
      "        [-35.9819, -35.8606, -35.8896],\n",
      "        [-47.3469, -47.2256, -47.2546],\n",
      "        [-22.3119, -22.1906, -22.2196],\n",
      "        [-41.5769, -41.4556, -41.4846],\n",
      "        [-24.4869, -24.3656, -24.3946],\n",
      "        [-47.1319, -47.0106, -47.0396],\n",
      "        [-65.7519, -65.6306, -65.6596],\n",
      "        [-47.9569, -47.8356, -47.8646],\n",
      "        [-48.8569, -48.7356, -48.7646],\n",
      "        [-53.1369, -53.0156, -53.0446],\n",
      "        [-21.8919, -21.7706, -21.7996],\n",
      "        [-22.4719, -22.3506, -22.3796],\n",
      "        [-22.4269, -22.3056, -22.3346],\n",
      "        [-31.9769, -31.8556, -31.8846],\n",
      "        [-42.7569, -42.6356, -42.6646],\n",
      "        [-23.4469, -23.3256, -23.3546],\n",
      "        [-20.5119, -20.3906, -20.4196],\n",
      "        [-42.1219, -42.0006, -42.0296],\n",
      "        [-41.6969, -41.5756, -41.6046],\n",
      "        [-25.6369, -25.5156, -25.5446],\n",
      "        [-24.8269, -24.7056, -24.7346],\n",
      "        [-27.9019, -27.7806, -27.8096],\n",
      "        [-40.1219, -40.0006, -40.0296],\n",
      "        [-40.0319, -39.9106, -39.9396],\n",
      "        [-44.2669, -44.1456, -44.1746],\n",
      "        [-27.9569, -27.8356, -27.8646],\n",
      "        [-27.4169, -27.2956, -27.3246],\n",
      "        [-30.1969, -30.0756, -30.1046],\n",
      "        [-42.7419, -42.6206, -42.6496],\n",
      "        [-46.8769, -46.7556, -46.7846],\n",
      "        [-41.7869, -41.6656, -41.6946],\n",
      "        [-58.9769, -58.8556, -58.8846]], grad_fn=<AddBackward0>)\n",
      "accuracy: 30 %\n"
     ]
    }
   ],
   "source": [
    "def predict(x):\n",
    "    yhats = bayes_model.forward(x)\n",
    "    print(yhats)\n",
    "    return softmax(yhats)\n",
    "\n",
    "predicted = torch.argmax(predict(feature_test_v), dim=1)\n",
    "correct = 0\n",
    "total = 0\n",
    "for index, elem in enumerate(predicted):\n",
    "    if elem == labels_test_v.tolist()[index]:\n",
    "        correct += 1\n",
    "    total += 1\n",
    "print(\"accuracy: %d %%\" % (100 * correct / total))"
   ]
  },
  {
   "cell_type": "code",
   "execution_count": null,
   "metadata": {},
   "outputs": [],
   "source": []
  }
 ],
 "metadata": {
  "kernelspec": {
   "display_name": "Python 3",
   "language": "python",
   "name": "python3"
  },
  "language_info": {
   "codemirror_mode": {
    "name": "ipython",
    "version": 3
   },
   "file_extension": ".py",
   "mimetype": "text/x-python",
   "name": "python",
   "nbconvert_exporter": "python",
   "pygments_lexer": "ipython3",
   "version": "3.6.8"
  }
 },
 "nbformat": 4,
 "nbformat_minor": 2
}
