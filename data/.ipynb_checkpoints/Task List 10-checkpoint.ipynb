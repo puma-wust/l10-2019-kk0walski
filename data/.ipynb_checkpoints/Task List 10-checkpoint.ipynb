{
 "cells": [
  {
   "cell_type": "markdown",
   "metadata": {},
   "source": [
    "### 2018/2019 - Task List 10\n",
    "\n",
    "1. Implement Naive Bayes classifier with pyro\n",
    "    - create apropriate parameters (mean and std for a and b, sigma - noise)\n",
    "    - provide optimization procedure\n",
    "    - check appropriateness of implemented method with selected dataset\n"
   ]
  },
  {
   "cell_type": "markdown",
   "metadata": {},
   "source": [
    "# Required imports"
   ]
  },
  {
   "cell_type": "code",
   "execution_count": 1,
   "metadata": {},
   "outputs": [],
   "source": [
    "%matplotlib inline\n",
    "import pyro\n",
    "import torch\n",
    "import numpy as np\n",
    "import matplotlib.pyplot as plt\n",
    "import pyro.optim as optim\n",
    "import pyro.distributions as dist\n",
    "from torch.distributions import constraints\n",
    "from tqdm import tqdm\n",
    "import seaborn as sns\n",
    "from matplotlib import animation, rc\n",
    "from IPython.display import HTML\n",
    "import torch.nn as nn\n",
    "from functools import partial\n",
    "import pandas as pd\n",
    "from pyro.contrib.autoguide import AutoDiagonalNormal\n",
    "from pyro.infer import EmpiricalMarginal, SVI, Trace_ELBO, TracePredictive"
   ]
  },
  {
   "cell_type": "code",
   "execution_count": 2,
   "metadata": {},
   "outputs": [],
   "source": [
    "pyro.set_rng_seed(1)\n",
    "pyro.enable_validation(True)"
   ]
  },
  {
   "cell_type": "markdown",
   "metadata": {},
   "source": [
    "## Solutions"
   ]
  },
  {
   "cell_type": "code",
   "execution_count": 3,
   "metadata": {},
   "outputs": [],
   "source": [
    "from numpy import pi\n",
    "import numpy as np\n",
    "\n",
    "class GaussianNaiveBayes(nn.Module):\n",
    "    \"\"\" Implementation of Naive Bayes as a layer for pytorch models\n",
    "    TODO\n",
    "    ----\n",
    "    - Make std devs fixable\n",
    "    - Look into better param initialization\n",
    "    \"\"\"\n",
    "    def __init__(self, features, classes):\n",
    "        super(self.__class__, self).__init__()\n",
    "\n",
    "        self.features = features\n",
    "        self.classes = classes\n",
    "        self.means = nn.Parameter(torch.zeros(classes, features))\n",
    "        self.variances = nn.Parameter(torch.ones(classes, features))\n",
    "        self.class_priors = nn.Parameter(torch.Tensor(self.classes))\n",
    "\n",
    "    def forward(self, x):\n",
    "        normal = Normal(self.means, torch.abs(self.variances))\n",
    "        reasult = []\n",
    "        for i in x:\n",
    "            elem = torch.sum(normal.log_prob(i), dim=-1)  + torch.log(self.class_priors)\n",
    "            elem = elem.tolist()\n",
    "            reasult.append(elem)\n",
    "        return torch.Tensor(reasult)"
   ]
  },
  {
   "cell_type": "code",
   "execution_count": 4,
   "metadata": {},
   "outputs": [],
   "source": [
    "from sklearn import datasets\n",
    "iris = datasets.load_iris()\n",
    "X = iris.data\n",
    "y = iris.target"
   ]
  },
  {
   "cell_type": "code",
   "execution_count": 5,
   "metadata": {},
   "outputs": [],
   "source": [
    "from sklearn.model_selection import train_test_split\n",
    "X_train, X_test, y_train, y_test = train_test_split(X, y, test_size=0.33, random_state=42)\n",
    "feature_train_v = torch.FloatTensor(X_train)\n",
    "labels_train_v = torch.FloatTensor(y_train)\n",
    "feature_test_v = torch.FloatTensor(X_test)\n",
    "labels_test_v = torch.FloatTensor(y_test)"
   ]
  },
  {
   "cell_type": "code",
   "execution_count": 6,
   "metadata": {},
   "outputs": [],
   "source": [
    "def separateByClass(features, classes):\n",
    "    separated = {}\n",
    "    for i in range(len(classes)):\n",
    "        vector = features[i]\n",
    "        if (classes[i] not in separated):\n",
    "            separated[classes[i]] = []\n",
    "        separated[classes[i]].append(vector)\n",
    "    return separated\n",
    "    \n",
    "def summarize(dataset):\n",
    "    summaries = [(np.mean(attribute), np.std(attribute)) for attribute in zip(*dataset)]\n",
    "    return summaries\n",
    "    \n",
    "def summarizeByClass(features, classes):\n",
    "    separated = separateByClass(features, classes)\n",
    "    summaries = {}\n",
    "    for classValue, instances in separated.items():\n",
    "            summaries[classValue] = summarize(instances)\n",
    "    means = [i for i in range(len(summaries))]\n",
    "    variances = [i for i in range(len(summaries))]\n",
    "    for classValue, summary in summaries.items():\n",
    "        means[int(classValue)] = [i[0] for i in summary]\n",
    "        variances[int(classValue)] = [i[1] for i in summary]\n",
    "    return torch.Tensor(means), torch.Tensor(variances)\n",
    "                         \n",
    "means_prior, variances_prior = summarizeByClass(feature_train_v.tolist(),labels_train_v.tolist())"
   ]
  },
  {
   "cell_type": "code",
   "execution_count": 7,
   "metadata": {},
   "outputs": [],
   "source": [
    "import pyro\n",
    "from pyro.distributions import Cauchy, Categorical, Normal, Beta\n",
    "from pyro.infer import SVI, Trace_ELBO\n",
    "from pyro.optim import Adam\n",
    "from tqdm import tqdm\n",
    "softmax = nn.Softmax(dim=-1)\n",
    "my_class_priors = torch.Tensor(np.histogram(labels_train_v, bins=[i for i in range(4)])[0]/len(labels_train_v))"
   ]
  },
  {
   "cell_type": "code",
   "execution_count": 8,
   "metadata": {},
   "outputs": [],
   "source": [
    "bayes_model = GaussianNaiveBayes(4, 3)\n",
    "bayes_model.class_priors.data = my_class_priors"
   ]
  },
  {
   "cell_type": "code",
   "execution_count": 9,
   "metadata": {},
   "outputs": [],
   "source": [
    "def model(x_data, y_data):\n",
    "    # weight and bias priors\n",
    "    mean_prior = Normal(loc=means_prior,\n",
    "                        scale=torch.ones_like(bayes_model.variances)*2).independent(2)\n",
    "    var_prior = Normal(loc=variances_prior,\n",
    "                        scale=torch.ones_like(bayes_model.variances)*2).independent(2)\n",
    "    mean_prior_param = pyro.param('means', mean_prior)\n",
    "    var_prior_param = pyro.param('variances', var_prior)\n",
    "    priors = {'means': mean_prior, 'variances': var_prior}\n",
    "    # lift module parameters to random variables sampled from the priors\n",
    "    lifted_module = pyro.random_module(\"module\", bayes_model, priors)\n",
    "    # sample a nn (which also samples w and b)\n",
    "    lifted_bayes_model = lifted_module()\n",
    "    with pyro.plate(\"map\", len(x_data)):\n",
    "        # run the nn forward on data\n",
    "        prediction_mean = lifted_bayes_model(x_data).squeeze(-1)\n",
    "        # condition on the observed data\n",
    "        reasult = torch.Tensor(np.nan_to_num(prediction_mean.tolist()))\n",
    "        hat = softmax(reasult)\n",
    "        obs = pyro.sample(\"obs\", Categorical(logits=hat), obs=y_data)\n",
    "        return hat"
   ]
  },
  {
   "cell_type": "code",
   "execution_count": 10,
   "metadata": {},
   "outputs": [],
   "source": [
    "def train():\n",
    "    pyro.clear_param_store()\n",
    "    num_iterations=1000\n",
    "    guide = AutoDiagonalNormal(model)\n",
    "    optim = pyro.optim.Adam({\"lr\": 0.01})\n",
    "    svi = pyro.infer.SVI(model, guide, optim, loss=pyro.infer.Trace_ELBO(), num_samples=50)\n",
    "    t=tqdm(range(num_iterations))\n",
    "    for j in t:\n",
    "        loss = svi.step(feature_train_v,  labels_train_v)\n",
    "        t.set_postfix(loss=loss)\n",
    "    return (model, svi)"
   ]
  },
  {
   "cell_type": "code",
   "execution_count": 11,
   "metadata": {},
   "outputs": [
    {
     "name": "stderr",
     "output_type": "stream",
     "text": [
      "100%|██████████| 1000/1000 [00:30<00:00, 33.01it/s, loss=123]\n"
     ]
    }
   ],
   "source": [
    "probabilistic_model, svi = train()"
   ]
  },
  {
   "cell_type": "code",
   "execution_count": 12,
   "metadata": {},
   "outputs": [
    {
     "name": "stdout",
     "output_type": "stream",
     "text": [
      "means tensor([[6.2872, 3.9113, 1.5879, 1.4910],\n",
      "        [4.9476, 2.3935, 1.1745, 2.0719],\n",
      "        [4.4977, 1.8445, 3.7595, 1.8953]], requires_grad=True)\n",
      "variances tensor([[-0.0564, -1.5617,  1.0272,  0.6420],\n",
      "        [-0.3212, -0.7264, -2.6509, -0.0445],\n",
      "        [ 7.8409, -3.3591,  3.7442, -2.2756]], requires_grad=True)\n",
      "module$$$class_priors Parameter containing:\n",
      "tensor([0.3100, 0.3500, 0.3400], requires_grad=True)\n",
      "auto_loc tensor([4.6549, 3.2232, 1.5326, 0.3237, 5.3560, 2.5678, 4.0530, 1.2420, 5.8815,\n",
      "        2.9922, 5.0789, 2.0170, 0.2781, 0.4030, 0.1290, 0.1203, 0.6737, 0.3336,\n",
      "        0.4331, 0.1876, 0.6367, 0.4827, 0.3938, 0.1178], requires_grad=True)\n",
      "auto_scale tensor([1.8406, 1.9132, 2.0672, 1.9959, 2.0602, 1.9726, 1.7907, 2.1650, 1.8466,\n",
      "        1.9267, 2.0912, 2.2079, 2.0161, 1.9611, 2.0133, 1.9331, 2.1830, 1.8152,\n",
      "        1.9625, 1.8539, 1.9740, 1.9622, 1.8795, 1.9395],\n",
      "       grad_fn=<AddBackward0>)\n"
     ]
    }
   ],
   "source": [
    "for name, value in pyro.get_param_store().items():\n",
    "    print(name, pyro.param(name))"
   ]
  },
  {
   "cell_type": "code",
   "execution_count": 13,
   "metadata": {},
   "outputs": [],
   "source": [
    "def get_marginal(traces, sites):\n",
    "    empirical_marginal=EmpiricalMarginal(traces, sites)\n",
    "    return empirical_marginal._get_samples_and_weights()[0].detach().cpu().numpy()\n",
    "\n",
    "def summary(traces, sites):\n",
    "    marginal = get_marginal(traces, sites)\n",
    "    site_stats = {}\n",
    "    for i in range(marginal.shape[1]):\n",
    "        site_name = sites[i]\n",
    "        site_marginal=marginal[:, i]\n",
    "        marginal_site = pd.DataFrame(site_marginal).transpose()\n",
    "        describe = partial(pd.Series.describe, percentiles=[.05, 0.25, 0.5, 0.75, 0.95])\n",
    "        site_stats[site_name] = marginal_site.apply(describe, axis=1) \\\n",
    "            [[\"mean\", \"std\", \"5%\", \"25%\", \"50%\", \"75%\", \"95%\"]]\n",
    "    return site_stats\n",
    "\n",
    "def wrapped_model(x_data, y_data):\n",
    "    model_result=probabilistic_model(x_data, y_data)\n",
    "    pyro.sample(\"prediction\", pyro.distributions.Categorical(model_result))\n",
    "\n",
    "posterior = svi.run(torch.FloatTensor(iris.data), torch.FloatTensor(iris.target))"
   ]
  },
  {
   "cell_type": "code",
   "execution_count": 14,
   "metadata": {},
   "outputs": [],
   "source": [
    "trace_pred = TracePredictive(wrapped_model,\n",
    "                             posterior,\n",
    "                             num_samples=50)\n",
    "post_pred = trace_pred.run(torch.FloatTensor(iris.data), None)\n",
    "post_summary = summary(post_pred, sites= ['prediction', 'obs'])\n",
    "mu = post_summary[\"prediction\"]\n",
    "y = post_summary[\"obs\"]\n",
    "predictions1 = pd.DataFrame({\n",
    "    \"x\": torch.FloatTensor(iris.data),\n",
    "    \"mu_mean\": mu[\"mean\"],\n",
    "    \"mu_perc_5\": mu[\"5%\"],\n",
    "    \"mu_perc_95\": mu[\"95%\"],\n",
    "    \"y_mean\": y[\"mean\"],\n",
    "    \"y_perc_5\": y[\"5%\"],\n",
    "    \"y_perc_95\": y[\"95%\"],\n",
    "    \"true_y\": torch.FloatTensor(iris.target),\n",
    "})"
   ]
  },
  {
   "cell_type": "code",
   "execution_count": 15,
   "metadata": {},
   "outputs": [
    {
     "data": {
      "image/png": "[encoded data removed]",
      "text/plain": [
       "<Figure size 864x432 with 1 Axes>"
      ]
     },
     "metadata": {
      "needs_background": "light"
     },
     "output_type": "display_data"
    }
   ],
   "source": [
    "fig, ax = plt.subplots(nrows=1, ncols=1, figsize=(12, 6))\n",
    "x_values=iris.data[:,0]\n",
    "y_data = iris.target\n",
    "plt.plot(x_values, y_data, \"bo\")\n",
    "plt.plot(x_values, predictions1['mu_mean'], 'r');\n",
    "plt.fill_between(x_values,\n",
    "                   predictions1[\"mu_perc_5\"],\n",
    "                   predictions1[\"mu_perc_95\"],\n",
    "                   color='r',\n",
    "                   alpha=0.5);"
   ]
  },
  {
   "cell_type": "code",
   "execution_count": 16,
   "metadata": {},
   "outputs": [],
   "source": [
    "variances = pyro.param('variances')\n",
    "means = pyro.param('means')"
   ]
  },
  {
   "cell_type": "code",
   "execution_count": 17,
   "metadata": {},
   "outputs": [],
   "source": [
    "net = GaussianNaiveBayes(4, 3)\n",
    "net.class_priors.data = my_class_priors\n",
    "net.means = nn.Parameter(means)\n",
    "net.variances = nn.Parameter(variances)"
   ]
  },
  {
   "cell_type": "code",
   "execution_count": 18,
   "metadata": {},
   "outputs": [
    {
     "name": "stdout",
     "output_type": "stream",
     "text": [
      "tensor([[0.3100, 0.3500, 0.3400],\n",
      "        [0.3100, 0.3500, 0.3400],\n",
      "        [0.3100, 0.3500, 0.3400],\n",
      "        [0.3100, 0.3500, 0.3400],\n",
      "        [0.3100, 0.3500, 0.3400],\n",
      "        [0.3100, 0.3500, 0.3400],\n",
      "        [0.3100, 0.3500, 0.3400],\n",
      "        [0.3100, 0.3500, 0.3400],\n",
      "        [0.3100, 0.3500, 0.3400],\n",
      "        [0.3100, 0.3500, 0.3400],\n",
      "        [0.3100, 0.3500, 0.3400],\n",
      "        [0.3100, 0.3500, 0.3400],\n",
      "        [0.3100, 0.3500, 0.3400],\n",
      "        [0.3100, 0.3500, 0.3400],\n",
      "        [0.3100, 0.3500, 0.3400],\n",
      "        [0.3100, 0.3500, 0.3400],\n",
      "        [0.3100, 0.3500, 0.3400],\n",
      "        [0.3100, 0.3500, 0.3400],\n",
      "        [0.3100, 0.3500, 0.3400],\n",
      "        [0.3100, 0.3500, 0.3400],\n",
      "        [0.3100, 0.3500, 0.3400],\n",
      "        [0.3100, 0.3500, 0.3400],\n",
      "        [0.3100, 0.3500, 0.3400],\n",
      "        [0.3100, 0.3500, 0.3400],\n",
      "        [0.3100, 0.3500, 0.3400],\n",
      "        [0.3100, 0.3500, 0.3400],\n",
      "        [0.3100, 0.3500, 0.3400],\n",
      "        [0.3100, 0.3500, 0.3400],\n",
      "        [0.3100, 0.3500, 0.3400],\n",
      "        [0.3100, 0.3500, 0.3400],\n",
      "        [0.3100, 0.3500, 0.3400],\n",
      "        [0.3100, 0.3500, 0.3400],\n",
      "        [0.3100, 0.3500, 0.3400],\n",
      "        [0.3100, 0.3500, 0.3400],\n",
      "        [0.3100, 0.3500, 0.3400],\n",
      "        [0.3100, 0.3500, 0.3400],\n",
      "        [0.3100, 0.3500, 0.3400],\n",
      "        [0.3100, 0.3500, 0.3400],\n",
      "        [0.3100, 0.3500, 0.3400],\n",
      "        [0.3100, 0.3500, 0.3400],\n",
      "        [0.3100, 0.3500, 0.3400],\n",
      "        [0.3100, 0.3500, 0.3400],\n",
      "        [0.3100, 0.3500, 0.3400],\n",
      "        [0.3100, 0.3500, 0.3400],\n",
      "        [0.3100, 0.3500, 0.3400],\n",
      "        [0.3100, 0.3500, 0.3400],\n",
      "        [0.3100, 0.3500, 0.3400],\n",
      "        [0.3100, 0.3500, 0.3400],\n",
      "        [0.3100, 0.3500, 0.3400],\n",
      "        [0.3100, 0.3500, 0.3400]])\n",
      "accuracy: 30 %\n"
     ]
    }
   ],
   "source": [
    "def predict(x):\n",
    "    yhats = bayes_model.forward(x)\n",
    "    return softmax(yhats)\n",
    "\n",
    "reasult = predict(feature_test_v)\n",
    "print(reasult)\n",
    "predicted = torch.argmax(reasult, dim=1)\n",
    "correct = 0\n",
    "total = 0\n",
    "for index, elem in enumerate(predicted):\n",
    "    if elem == labels_test_v.tolist()[index]:\n",
    "        correct += 1\n",
    "    total += 1\n",
    "print(\"accuracy: %d %%\" % (100 * correct / total))"
   ]
  },
  {
   "cell_type": "code",
   "execution_count": null,
   "metadata": {},
   "outputs": [],
   "source": []
  }
 ],
 "metadata": {
  "kernelspec": {
   "display_name": "Python 3",
   "language": "python",
   "name": "python3"
  },
  "language_info": {
   "codemirror_mode": {
    "name": "ipython",
    "version": 3
   },
   "file_extension": ".py",
   "mimetype": "text/x-python",
   "name": "python",
   "nbconvert_exporter": "python",
   "pygments_lexer": "ipython3",
   "version": "3.6.8"
  }
 },
 "nbformat": 4,
 "nbformat_minor": 2
}
